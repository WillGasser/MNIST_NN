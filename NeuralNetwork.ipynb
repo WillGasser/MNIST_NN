{
 "cells": [
  {
   "cell_type": "markdown",
   "metadata": {},
   "source": [
    "# Will Gasser | 2/20/2025 | MNIST NN\n",
    "\n",
    "This is a simple NN with back propogation to formalize my understanding of ML and NN concepts.\n",
    "\n",
    "I am limiting myself to having imports: numpy, random, time (just for stats), pandas (just for data read), and matplotlib for visualization after.\n",
    "\n",
    "Let us see how fast I can complete this, oh and no LLMs for any functions, I will note if I use it for syntax.\n",
    "\n",
    "Init commit now: 2/20/2025 @ 9:14 EST\n",
    "\n",
    "Finish: TBD"
   ]
  },
  {
   "cell_type": "markdown",
   "metadata": {},
   "source": []
  },
  {
   "cell_type": "code",
   "execution_count": 2,
   "metadata": {},
   "outputs": [],
   "source": [
    "import numpy as np\n",
    "import random\n",
    "import time\n",
    "import pandas as pd\n",
    "import matplotlib.pyplot as plt"
   ]
  },
  {
   "cell_type": "code",
   "execution_count": 9,
   "metadata": {},
   "outputs": [],
   "source": [
    "TRAIN_DATA = np.array(pd.read_csv('mnist_train.csv'))\n",
    "TEST_DATA = np.array(pd.read_csv('mnist_test.csv'))"
   ]
  },
  {
   "cell_type": "code",
   "execution_count": null,
   "metadata": {},
   "outputs": [],
   "source": [
    "# DATA FUNCTIONS\n",
    "\n",
    "DATA_SIZE = np.shape(TRAIN_DATA)\n",
    "BATCH_INDICES = list(range(0, DATA_SIZE[0]))\n",
    "\n",
    "def shuffle_batch() -> None:\n",
    "    random.shuffle(BATCH_INDICES)\n",
    "    \n",
    "def get_one_example(index: int) -> np.ndarray:\n",
    "    return TRAIN_DATA[index]\n",
    "\n",
    "def get_label(data: np.ndarray) -> int:\n",
    "    return data[0]\n",
    "    \n",
    "def get_features(data: np.ndarray) -> np.ndarray:\n",
    "    return data[np.newaxis, 1:] / 255.0\n",
    "\n"
   ]
  },
  {
   "cell_type": "code",
   "execution_count": null,
   "metadata": {},
   "outputs": [],
   "source": [
    "# FORWARD PASS / BACKWARD PROPOGATION FUNCTIONS\n",
    "\n",
    "def activation_sigmoid(Z: np.ndarray) -> np.ndarray: # Z is activations\n",
    "    return (1 / (1+ np.exp(-Z)))\n",
    "\n",
    "def forward_pass(activation_in: np.ndarray, layers: list, bias: list) -> np.ndarray:\n",
    "        activation_out = []\n",
    "        for i in range(len(layers)): # at each neural layer\n",
    "            layer = layers[i] # specific layer, specific bias\n",
    "            B = bias[i]\n",
    "            activaiton_in = activation_sigmoid(np.dot(activation_in, layer) + B)\n",
    "            activation_out.append(activation_in)\n",
    "            \n",
    "        for output, i in enumerate(activation_in.flatten()):\n",
    "            print(f'{output}: {i}')\n",
    "        \n",
    "        return activation_out\n",
    "                \n",
    "def back_propogation(activation_vectors: list, layers: list, bias: list) -> None:\n",
    "            \n",
    "\n",
    "            "
   ]
  },
  {
   "cell_type": "code",
   "execution_count": null,
   "metadata": {},
   "outputs": [],
   "source": [
    "def training(data_size: int, epochs: int, batch_size: int, data: np.ndarray, layers: list, bias: list) -> None:\n",
    "    if (data_size % batch_size != 0):\n",
    "        raise ValueError(f'ERROR: Data of size {data_size} is not divisible by Batch Size of {batch_size}')\n",
    "    \n",
    "    BATCHES = data_size / batch_size\n",
    "    \n",
    "    print(f'Commencing Training with:\\nEpochs: {epochs}\\nBatches: {BATCHES}\\nBatch Size: {batch_size}')\n",
    "    \n",
    "    total_time = time.time\n",
    "    for epoch in range(epochs):\n",
    "        epoch_time = time.time\n",
    "        activation_vectors = []\n",
    "        \n",
    "        for batch in range(BATCHES):\n",
    "            for batch_index in range(batch_size):\n",
    "                activation_vectors.append(forward_pass(data[batch_index]))\n",
    "            back_propogation(activation_vectors, layers, bias)\n",
    "            \n",
    "        print(f'EPOCH {epoch} complete in {epoch_time - time.time}(s)')\n",
    "    print(f'TRAINING COMPLETE in time: {total_time - time.time}(s)')\n",
    "        "
   ]
  },
  {
   "cell_type": "code",
   "execution_count": 47,
   "metadata": {},
   "outputs": [],
   "source": [
    "'''\n",
    "###################################################################\n",
    "### THIS CELL SETS THE MODEL WEIGHTS/BIAS BACK TO RANDOM VALUES ###\n",
    "###################################################################\n",
    "'''\n",
    "\n",
    "# MODEL INSTANTIATION\n",
    "\n",
    "weights784 = np.random.uniform(low=-1.0, high=1.0, size=(784, 256)) # INPUT LAYER\n",
    "bias256 = np.zeros((1,256))\n",
    "\n",
    "weights256 = np.random.uniform(low=-1.0, high=1.0, size=(256, 128)) # Hidden layer 1\n",
    "bias128 = np.zeros((1,128))\n",
    "\n",
    "weights128 = np.random.uniform(low=-1.0, high=1.0, size=(128, 64)) # Hidden layer 2\n",
    "bias64 = np.zeros((1,64))\n",
    "\n",
    "weights64= np.random.uniform(low=-1.0, high=1.0, size=(64, 10)) # OUTPUT\n",
    "bias10 = np.zeros((1,10))\n",
    "\n",
    "layers = [weights784, weights256, weights128, weights64]\n",
    "bias = [bias256, bias128, bias64, bias10]"
   ]
  },
  {
   "cell_type": "code",
   "execution_count": null,
   "metadata": {},
   "outputs": [],
   "source": [
    "# SET OUR BATCH SIZES AND EPOCHS\n",
    "BATCH_SIZE = np.size(TRAIN_DATA) / 10\n",
    "EPOCHS = 1"
   ]
  },
  {
   "cell_type": "code",
   "execution_count": null,
   "metadata": {},
   "outputs": [
    {
     "name": "stdout",
     "output_type": "stream",
     "text": [
      "Data processing, shuffling batch of size 59999.\n",
      "Data shuffling complete, took 0.02061748504638672 seconds.\n",
      "COMMENCING FORWARD PROPOGATION TEST\n",
      "(1, 10)\n",
      "0: 0.030215178225351327\n",
      "1: 0.4277305515516519\n",
      "2: 0.8774139792803056\n",
      "3: 0.228274923814295\n",
      "4: 0.8708545646972903\n",
      "5: 0.231017873418005\n",
      "6: 0.23784773674567408\n",
      "7: 0.09263769349503741\n",
      "8: 0.00946463769519365\n",
      "9: 0.8059917865761259\n",
      "Label: 5\n",
      "COMPLETE\n"
     ]
    }
   ],
   "source": [
    "# DATA PRE-PROCESSING\n",
    "print(f'Data processing, shuffling batch of size {len(BATCH_INDICES)}.')\n",
    "start = time.time()\n",
    "shuffle_batch()\n",
    "shuffle_time = time.time() - start\n",
    "print(f'Data shuffling complete, took {shuffle_time} seconds.')\n",
    "\n",
    "test_data = get_one_example(BATCH_INDICES[0])\n",
    "test_example = get_features(test_data)\n",
    "test_label = get_label(test_data)\n",
    "\n",
    "\n",
    "\n",
    "# TEST FORWARD PROP\n",
    "print('COMMENCING FORWARD PROPOGATION TEST')\n",
    "\n",
    "forward_pass(test_example, layers, bias)\n",
    "\n",
    "print(f'Label: {test_label}')\n",
    "print('COMPLETE')"
   ]
  }
 ],
 "metadata": {
  "kernelspec": {
   "display_name": "Python 3",
   "language": "python",
   "name": "python3"
  },
  "language_info": {
   "codemirror_mode": {
    "name": "ipython",
    "version": 3
   },
   "file_extension": ".py",
   "mimetype": "text/x-python",
   "name": "python",
   "nbconvert_exporter": "python",
   "pygments_lexer": "ipython3",
   "version": "3.7.3"
  }
 },
 "nbformat": 4,
 "nbformat_minor": 2
}
