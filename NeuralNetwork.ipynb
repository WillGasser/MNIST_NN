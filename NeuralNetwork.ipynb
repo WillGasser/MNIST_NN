{
 "cells": [
  {
   "cell_type": "markdown",
   "metadata": {},
   "source": [
    "# Will Gasser | 2/20/2025 | MNIST NN\n",
    "\n",
    "This is a simple NN with back propogation to formalize my understanding of ML and NN concepts.\n",
    "\n",
    "I am limiting myself to having imports: numpy, random, time (just for stats), pandas (just for data read), and matplotlib for visualization after.\n",
    "\n",
    "Let us see how fast I can complete this, oh and no LLMs for any functions, I will note if I use it for syntax.\n",
    "\n",
    "Init commit now: 2/20/2025 @ 9:14 EST\n",
    "\n",
    "Finish: TBD"
   ]
  },
  {
   "cell_type": "markdown",
   "metadata": {},
   "source": []
  },
  {
   "cell_type": "code",
   "execution_count": 2,
   "metadata": {},
   "outputs": [],
   "source": [
    "import numpy as np\n",
    "import random\n",
    "import time\n",
    "import pandas as pd\n",
    "import matplotlib.pyplot as plt"
   ]
  },
  {
   "cell_type": "code",
   "execution_count": 9,
   "metadata": {},
   "outputs": [],
   "source": [
    "TRAIN_DATA = np.array(pd.read_csv('mnist_train.csv'))\n",
    "TEST_DATA = np.array(pd.read_csv('mnist_test.csv'))"
   ]
  },
  {
   "cell_type": "code",
   "execution_count": 86,
   "metadata": {},
   "outputs": [],
   "source": [
    "# DATA FUNCTIONS\n",
    "\n",
    "DATA_SIZE = np.shape(TRAIN_DATA)\n",
    "BATCH_INDICES = list(range(0, DATA_SIZE[0]))\n",
    "\n",
    "def shuffle_batch() -> None:\n",
    "    random.shuffle(BATCH_INDICES)\n",
    "    \n",
    "def get_one_example(index: int) -> np.ndarray:\n",
    "    return TRAIN_DATA[index]\n",
    "\n",
    "def get_label(data: np.ndarray) -> int:\n",
    "    return data[0]\n",
    "    \n",
    "def get_features(data: np.ndarray) -> np.ndarray:\n",
    "    return data[np.newaxis, 1:] / 255.0 # normalize based on 255 grayscale \n",
    "\n"
   ]
  },
  {
   "cell_type": "code",
   "execution_count": null,
   "metadata": {},
   "outputs": [],
   "source": [
    "# FORWARD PASS / BACKWARD PROPOGATION FUNCTIONS\n",
    "\n",
    "def SIGMOID(Z: np.ndarray) -> np.ndarray: # Z is activations\n",
    "    return (1 / (1 + np.exp(-Z)))\n",
    "\n",
    "def FORWARD_PASS(activation_in: np.ndarray, weights: list, bias: list) -> np.ndarray:\n",
    "        activation_out = list()\n",
    "        for i in range(len(weights)): # at each neural layer\n",
    "            layer = weights[i] # specific layer\n",
    "            B = bias[i] # specific bias\n",
    "            activation_in = SIGMOID(np.dot(activation_in, layer) + B) # dot product i.e. sum each (activation_prev * weights) and add bias\n",
    "            activation_out.append(activation_in) # keep track of activations for backprop\n",
    "            \n",
    "        for output, i in enumerate(activation_in.flatten()): \n",
    "            print(f'{output}: {i}')\n",
    "        \n",
    "        return activation_out\n",
    "    \n",
    "def ADJUST_PARAMETERS(weights: list, bias: list, w_gradient: list, bias_gradient: list, learning_rate: float):\n",
    "    weights -= w_gradient * learning_rate\n",
    "    bias -= bias_gradient * learning_rate\n",
    "    return weights, bias\n",
    "\n",
    "def LOSS_MSE(activations: np.ndarray) -> np.ndarray:\n",
    "    labels = np.array([0, 1, 2, 3, 4, 5, 6, 7, 8, 9])[:, np.newaxis]\n",
    "    mse = np.mean(np.square(activations - labels), axis=1, keepdims=True)\n",
    "    return mse\n",
    "    \n",
    "def STOCHASTIC_GRADIENT(activations: list, weights: list, bias: list):\n",
    "    loss = LOSS_MSE(activations[-1])\n",
    "                    \n",
    "def BACK_PROPOGATION(activation_vectors: list, weights: list, bias: list, learning_rate: float, batch_size):\n",
    "           WEIGHT_GRADIENT, BIAS_GRADIENT = STOCHASTIC_GRADIENT(activation_vectors, weights, bias)\n",
    "           for layer in range (weights):\n",
    "                ADJUST_PARAMETERS(weights, bias, WEIGHT_GRADIENT, BIAS_GRADIENT, learning_rate)\n",
    "           \n",
    "           \n",
    "           \n",
    "           \n",
    "           \n",
    "           \n",
    "\n",
    "            "
   ]
  },
  {
   "cell_type": "code",
   "execution_count": null,
   "metadata": {},
   "outputs": [],
   "source": [
    "def training(data_size: int, epochs: int, batch_size: int, learning_rate: float, data: np.ndarray, weights: list, bias: list) -> None:\n",
    "    if (data_size % batch_size != 0):\n",
    "        raise ValueError(f'ERROR: Data of size {data_size} is not divisible by Batch Size of {batch_size}')\n",
    "    \n",
    "    BATCHES = data_size // batch_size\n",
    "    \n",
    "    print(f'Commencing Training with:\\nEpochs: {epochs}\\nBatches: {BATCHES}\\nBatch Size: {batch_size}')\n",
    "    \n",
    "    total_time = time.time()\n",
    "    for epoch in range(epochs):\n",
    "        epoch_time = time.time()\n",
    "        activation_vectors = np.array()\n",
    "        \n",
    "        for batch in range(BATCHES):\n",
    "            for batch_index in range(batch_size):\n",
    "                activation_vectors.append(FORWARD_PASS(data[batch_index]))\n",
    "            BACK_PROPOGATION(activation_vectors, weights, bias, learning_rate, batch_size)\n",
    "            \n",
    "        print(f'EPOCH {epoch} complete in {epoch_time - time.time()}(s)')\n",
    "    print(f'TRAINING COMPLETE in time: {total_time - time.time()}(s)')\n",
    "        "
   ]
  },
  {
   "cell_type": "code",
   "execution_count": 129,
   "metadata": {},
   "outputs": [],
   "source": [
    "'''\n",
    "###################################################################\n",
    "### THIS CELL SETS THE MODEL WEIGHTS/BIAS BACK TO RANDOM VALUES ###\n",
    "###################################################################\n",
    "'''\n",
    "\n",
    "# MODEL INSTANTIATION\n",
    "\n",
    "weights784 = np.random.uniform(low=-1.0, high=1.0, size=(784, 256)) # weights from 784 pixels -> 256 neurons\n",
    "bias256 = np.zeros((1,256))\n",
    "\n",
    "weights256 = np.random.uniform(low=-1.0, high=1.0, size=(256, 128)) # weights 256 -> 128\n",
    "bias128 = np.zeros((1,128))\n",
    "\n",
    "weights128 = np.random.uniform(low=-1.0, high=1.0, size=(128, 64)) # weights 128 -> 64\n",
    "bias64 = np.zeros((1,64))\n",
    "\n",
    "weights64= np.random.uniform(low=-1.0, high=1.0, size=(64, 10)) # weights 64 -> 10 , outputs integer labels ∈ [0,9]\n",
    "bias10 = np.zeros((1,10))\n",
    "\n",
    "WEIGHTS = [weights784, weights256, weights128, weights64]\n",
    "BIAS = [bias256, bias128, bias64, bias10]"
   ]
  },
  {
   "cell_type": "code",
   "execution_count": 84,
   "metadata": {},
   "outputs": [],
   "source": [
    "# SET OUR BATCH SIZES AND EPOCHS\n",
    "BATCH_SIZE = np.size(TRAIN_DATA) / 10\n",
    "EPOCHS = 1"
   ]
  },
  {
   "cell_type": "code",
   "execution_count": null,
   "metadata": {},
   "outputs": [
    {
     "name": "stdout",
     "output_type": "stream",
     "text": [
      "Data processing, shuffling batch of size 59999.\n",
      "Data shuffling complete, took 0.02295064926147461 seconds.\n",
      "COMMENCING FORWARD PROPOGATION TEST\n",
      "0: 0.9981530277147089\n",
      "1: 0.11039845080264685\n",
      "2: 0.18391548634037613\n",
      "3: 0.2980897300466042\n",
      "4: 0.755566088134\n",
      "5: 0.0005954225474734399\n",
      "6: 0.16109152657373724\n",
      "7: 0.0015426543658001004\n",
      "8: 0.018117907265417475\n",
      "9: 0.9952028996573314\n",
      "0: 0.9981530277147089\n",
      "1: 0.11039845080264685\n",
      "2: 0.18391548634037613\n",
      "3: 0.2980897300466042\n",
      "4: 0.755566088134\n",
      "5: 0.0005954225474734399\n",
      "6: 0.16109152657373724\n",
      "7: 0.0015426543658001004\n",
      "8: 0.018117907265417475\n",
      "9: 0.9952028996573314\n",
      "Label: 1\n",
      "COMPLETE\n"
     ]
    }
   ],
   "source": [
    "# DATA PRE-PROCESSING\n",
    "print(f'Data processing, shuffling batch of size {len(BATCH_INDICES)}.')\n",
    "start = time.time()\n",
    "shuffle_batch()\n",
    "shuffle_time = time.time() - start\n",
    "print(f'Data shuffling complete, took {shuffle_time} seconds.')\n",
    "\n",
    "test_data = get_one_example(BATCH_INDICES[0])\n",
    "test_example = get_features(test_data)\n",
    "test_label = get_label(test_data)\n",
    "\n",
    "# TEST FORWARD PROP\n",
    "print('COMMENCING FORWARD PROPOGATION TEST')\n",
    "\n",
    "test_activations = FORWARD_PASS(test_example, WEIGHTS, BIAS)\n",
    "\n",
    "print(f'Label: {test_label}')\n",
    "print('COMPLETE')"
   ]
  }
 ],
 "metadata": {
  "kernelspec": {
   "display_name": "Python 3",
   "language": "python",
   "name": "python3"
  },
  "language_info": {
   "codemirror_mode": {
    "name": "ipython",
    "version": 3
   },
   "file_extension": ".py",
   "mimetype": "text/x-python",
   "name": "python",
   "nbconvert_exporter": "python",
   "pygments_lexer": "ipython3",
   "version": "3.7.3"
  }
 },
 "nbformat": 4,
 "nbformat_minor": 2
}
