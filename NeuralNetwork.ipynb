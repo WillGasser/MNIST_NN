{
 "cells": [
  {
   "cell_type": "markdown",
   "metadata": {},
   "source": [
    "# Will Gasser | 2/20/2025 | MNIST NN\n",
    "\n",
    "This is a simple NN with back propogation to formalize my understanding of ML and NN concepts.\n",
    "\n",
    "I am limiting myself to having imports: numpy, random, time (just for stats), pandas (just for data read), and matplotlib for visualization after.\n",
    "\n",
    "Let us see how fast I can complete this, oh and no LLMs for any functions, I will note if I use it for syntax.\n",
    "\n",
    "Init commit now: 2/20/2025 @ 9:14 EST\n",
    "\n",
    "Finish: TBD"
   ]
  },
  {
   "cell_type": "markdown",
   "metadata": {},
   "source": []
  },
  {
   "cell_type": "code",
   "execution_count": null,
   "metadata": {},
   "outputs": [],
   "source": [
    "import numpy as np\n",
    "import random\n",
    "import time\n",
    "import pandas as pd\n",
    "import matplotlib.pyplot as plt"
   ]
  },
  {
   "cell_type": "code",
   "execution_count": 3,
   "metadata": {},
   "outputs": [],
   "source": [
    "TRAIN_DATA = np.array(pd.read_csv('mnist_train.csv'))\n",
    "TEST_DATA = np.array(pd.read_csv('mnist_test.csv'))"
   ]
  },
  {
   "cell_type": "code",
   "execution_count": 18,
   "metadata": {},
   "outputs": [],
   "source": [
    "# DATA FUNCTIONS\n",
    "\n",
    "BATCH_SIZE = np.size(TRAIN_DATA)\n",
    "BATCH_INDICES = list(range(0, BATCH_SIZE))\n",
    "\n",
    "def shuffle_batch() -> None:\n",
    "    random.shuffle(BATCH_INDICES)\n",
    "    \n",
    "def get_data(index: int) -> np.ndarray:\n",
    "    return TRAIN_DATA[index]\n",
    "\n",
    "def get_label(data: np.ndarray) -> int:\n",
    "    return data[0]\n",
    "    \n",
    "def get_features(data: np.ndarray) -> np.ndarray:\n",
    "    return data[1:]"
   ]
  },
  {
   "cell_type": "code",
   "execution_count": 22,
   "metadata": {},
   "outputs": [],
   "source": [
    "# FORWARD / BACKWARD PROPOGATION FUNCTIONS\n",
    "\n",
    "def activation_sigmoid(Z: np.ndarray) -> np.ndarray: # Z is activations\n",
    "    return (1 / (1+ np.exp(-Z)))\n",
    "\n",
    "def forward_propogation(activations: np.ndarray, layers: list, bias: list) -> np.ndarray:\n",
    "        for i in range(len(layers)): # at each neural layer\n",
    "            layer, bias = layers[i], bias[i] # specific layer, specific bias\n",
    "            activations = activation_sigmoid(np.dot(activations, layer) + bias)\n",
    "        \n",
    "        for output, i in enumerate(activations):\n",
    "            print(f'{i}: {output}')            "
   ]
  },
  {
   "cell_type": "code",
   "execution_count": 11,
   "metadata": {},
   "outputs": [],
   "source": [
    "'''\n",
    "###################################################################\n",
    "### THIS CELL SETS THE MODEL WEIGHTS/BIAS BACK TO RANDOM VALUES ###\n",
    "###################################################################\n",
    "'''\n",
    "\n",
    "# MODEL INSTANTIATION\n",
    "\n",
    "weights784 = np.random.uniform(low=0.0, high=1.0, size=(784, 256)) # INPUT LAYER\n",
    "bias784 = np.random.uniform(low=0.0, high=1.0, size=(1, 784))\n",
    "\n",
    "weights256 = np.random.uniform(low=0.0, high=1.0, size=(256, 128)) # Hidden layer 1\n",
    "bias256 = np.random.uniform(low=0.0, high=1.0, size=(1, 256))\n",
    "\n",
    "weights128 = np.random.uniform(low=0.0, high=1.0, size=(128, 64)) # Hidden layer 2\n",
    "bias128 = np.random.uniform(low=0.0, high=1.0, size=(1, 128))\n",
    "\n",
    "weights64= np.random.uniform(low=0.0, high=1.0, size=(64, 10)) # Hidden layer 3\n",
    "bias64 = np.random.uniform(low=0.0, high=1.0, size=(1, 64))\n",
    "\n",
    "weights10 = np.random.uniform(low=0.0, high=1.0, size=(10, 1)) # OUTPUT LAYER\n",
    "bias10 = np.random.uniform(low=0.0, high=1.0, size=(1, 256))\n",
    "\n",
    "layers = [weights784, weights256, weights128, weights64, weights10]\n",
    "bias = [bias784, bias256, bias128, bias64, bias10]"
   ]
  },
  {
   "cell_type": "code",
   "execution_count": null,
   "metadata": {},
   "outputs": [],
   "source": [
    "# DATA PRE-PROCESSING\n",
    "print(f'Data processing, shuffling batch of size {len(BATCH_INDICES)}.')\n",
    "start = time.time()\n",
    "shuffle_batch()\n",
    "shuffle_time = time.time() - start\n",
    "print(f'Data shuffling complete, took {shuffle_time} seconds.')\n",
    "\n"
   ]
  },
  {
   "cell_type": "code",
   "execution_count": 24,
   "metadata": {},
   "outputs": [
    {
     "name": "stdout",
     "output_type": "stream",
     "text": [
      "COMMENCING FORWARD PROPOGATION TEST\n"
     ]
    },
    {
     "ename": "ValueError",
     "evalue": "operands could not be broadcast together with shapes (256,) (1,784) ",
     "output_type": "error",
     "traceback": [
      "\u001b[1;31m---------------------------------------------------------------------------\u001b[0m",
      "\u001b[1;31mValueError\u001b[0m                                Traceback (most recent call last)",
      "Cell \u001b[1;32mIn[24], line 8\u001b[0m\n\u001b[0;32m      5\u001b[0m \u001b[38;5;66;03m# TEST FORWARD PROP\u001b[39;00m\n\u001b[0;32m      6\u001b[0m \u001b[38;5;28mprint\u001b[39m(\u001b[38;5;124m'\u001b[39m\u001b[38;5;124mCOMMENCING FORWARD PROPOGATION TEST\u001b[39m\u001b[38;5;124m'\u001b[39m)\n\u001b[1;32m----> 8\u001b[0m \u001b[43mforward_propogation\u001b[49m\u001b[43m(\u001b[49m\u001b[43mtest_example\u001b[49m\u001b[43m,\u001b[49m\u001b[43m \u001b[49m\u001b[43mlayers\u001b[49m\u001b[43m,\u001b[49m\u001b[43m \u001b[49m\u001b[43mbias\u001b[49m\u001b[43m)\u001b[49m\n\u001b[0;32m     10\u001b[0m \u001b[38;5;28mprint\u001b[39m(\u001b[38;5;124m'\u001b[39m\u001b[38;5;124mCOMPLETE\u001b[39m\u001b[38;5;124m'\u001b[39m)\n",
      "Cell \u001b[1;32mIn[22], line 9\u001b[0m, in \u001b[0;36mforward_propogation\u001b[1;34m(activations, layers, bias)\u001b[0m\n\u001b[0;32m      7\u001b[0m \u001b[38;5;28;01mfor\u001b[39;00m i \u001b[38;5;129;01min\u001b[39;00m \u001b[38;5;28mrange\u001b[39m(\u001b[38;5;28mlen\u001b[39m(layers)): \u001b[38;5;66;03m# at each neural layer\u001b[39;00m\n\u001b[0;32m      8\u001b[0m     layer, bias \u001b[38;5;241m=\u001b[39m layers[i], bias[i] \u001b[38;5;66;03m# specific layer, specific bias\u001b[39;00m\n\u001b[1;32m----> 9\u001b[0m     activations \u001b[38;5;241m=\u001b[39m activation_sigmoid(\u001b[43mnp\u001b[49m\u001b[38;5;241;43m.\u001b[39;49m\u001b[43mdot\u001b[49m\u001b[43m(\u001b[49m\u001b[43mactivations\u001b[49m\u001b[43m,\u001b[49m\u001b[43m \u001b[49m\u001b[43mlayer\u001b[49m\u001b[43m)\u001b[49m\u001b[43m \u001b[49m\u001b[38;5;241;43m+\u001b[39;49m\u001b[43m \u001b[49m\u001b[43mbias\u001b[49m)\n\u001b[0;32m     11\u001b[0m \u001b[38;5;28;01mfor\u001b[39;00m output, i \u001b[38;5;129;01min\u001b[39;00m \u001b[38;5;28menumerate\u001b[39m(activations):\n\u001b[0;32m     12\u001b[0m     \u001b[38;5;28mprint\u001b[39m(\u001b[38;5;124mf\u001b[39m\u001b[38;5;124m'\u001b[39m\u001b[38;5;132;01m{\u001b[39;00mi\u001b[38;5;132;01m}\u001b[39;00m\u001b[38;5;124m: \u001b[39m\u001b[38;5;132;01m{\u001b[39;00moutput\u001b[38;5;132;01m}\u001b[39;00m\u001b[38;5;124m'\u001b[39m)\n",
      "\u001b[1;31mValueError\u001b[0m: operands could not be broadcast together with shapes (256,) (1,784) "
     ]
    }
   ],
   "source": [
    "test_data = get_data(BATCH_INDICES[0])\n",
    "test_example = get_features(test_data)\n",
    "test_label = get_label(test_data)\n",
    "\n",
    "# TEST FORWARD PROP\n",
    "print('COMMENCING FORWARD PROPOGATION TEST')\n",
    "\n",
    "forward_propogation(test_example, layers, bias)\n",
    "\n",
    "print('COMPLETE')"
   ]
  }
 ],
 "metadata": {
  "kernelspec": {
   "display_name": "Python 3",
   "language": "python",
   "name": "python3"
  },
  "language_info": {
   "codemirror_mode": {
    "name": "ipython",
    "version": 3
   },
   "file_extension": ".py",
   "mimetype": "text/x-python",
   "name": "python",
   "nbconvert_exporter": "python",
   "pygments_lexer": "ipython3",
   "version": "3.13.2"
  }
 },
 "nbformat": 4,
 "nbformat_minor": 2
}
