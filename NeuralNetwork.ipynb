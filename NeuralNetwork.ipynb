{
 "cells": [
  {
   "cell_type": "markdown",
   "metadata": {},
   "source": [
    "# Will Gasser | 2/20/2025 | MNIST NN\n",
    "\n",
    "This is a simple NN with back propogation to formalize my understanding of ML and NN concepts.\n",
    "\n",
    "I am limiting myself to having imports: numpy, random, time (just for stats), pandas (just for data read), and matplotlib for visualization after.\n",
    "\n",
    "Let us see how fast I can complete this, oh and no LLMs for any functions, I will note if I use it for syntax.\n",
    "\n",
    "Init commit now: 2/20/2025 @ 9:14 EST\n",
    "\n",
    "Finish: TBD"
   ]
  },
  {
   "cell_type": "markdown",
   "metadata": {},
   "source": []
  },
  {
   "cell_type": "code",
   "execution_count": 36,
   "metadata": {},
   "outputs": [],
   "source": [
    "import numpy as np\n",
    "import random\n",
    "import time\n",
    "import pandas as pd\n",
    "import matplotlib.pyplot as plt"
   ]
  },
  {
   "cell_type": "code",
   "execution_count": 35,
   "metadata": {},
   "outputs": [],
   "source": [
    "TRAIN_DATA = np.array(pd.read_csv('mnist_train.csv'))\n",
    "TEST_DATA = np.array(pd.read_csv('mnist_test.csv'))"
   ]
  },
  {
   "cell_type": "code",
   "execution_count": 113,
   "metadata": {},
   "outputs": [],
   "source": [
    "# DATA FUNCTIONS\n",
    "\n",
    "BATCH_SIZE = np.size(TRAIN_DATA)\n",
    "BATCH_INDICES = list(range(0, BATCH_SIZE))\n",
    "\n",
    "def shuffle_batch() -> None:\n",
    "    random.shuffle(BATCH_INDICES)\n",
    "    \n",
    "def get_data(index: int) -> np.ndarray:\n",
    "    return TRAIN_DATA[index]\n",
    "\n",
    "def get_label(data: np.ndarray) -> int:\n",
    "    return data[0]\n",
    "    \n",
    "def get_features(data: np.ndarray) -> np.ndarray:\n",
    "    return data[np.newaxis, 1:]"
   ]
  },
  {
   "cell_type": "code",
   "execution_count": null,
   "metadata": {},
   "outputs": [],
   "source": [
    "# FORWARD / BACKWARD PROPOGATION FUNCTIONS\n",
    "\n",
    "def activation_sigmoid(Z: np.ndarray) -> np.ndarray: # Z is activations\n",
    "    return (1 / (1+ np.exp(-Z)))\n",
    "\n",
    "def forward_propogation(activations: np.ndarray, layers: list, bias: list) -> np.ndarray:\n",
    "        for i in range(len(layers)): # at each neural layer\n",
    "            layer = layers[i] # specific layer, specific bias\n",
    "            B = bias[i]\n",
    "            activations = activation_sigmoid(np.dot(activations, layer) + B)\n",
    "        \n",
    "        print(f'{np.shape(activations)}')\n",
    "        for output, i in enumerate(activations.flatten()):\n",
    "            print(f'{output}: {i}')            "
   ]
  },
  {
   "cell_type": "code",
   "execution_count": null,
   "metadata": {},
   "outputs": [],
   "source": [
    "'''\n",
    "###################################################################\n",
    "### THIS CELL SETS THE MODEL WEIGHTS/BIAS BACK TO RANDOM VALUES ###\n",
    "###################################################################\n",
    "'''\n",
    "\n",
    "# MODEL INSTANTIATION\n",
    "\n",
    "weights784 = np.random.uniform(low=0.0, high=1.0, size=(784, 256)) # INPUT LAYER\n",
    "bias256 = np.random.uniform(low=0.0, high=1.0, size=(1, 256))\n",
    "\n",
    "weights256 = np.random.uniform(low=0.0, high=1.0, size=(256, 128)) # Hidden layer 1\n",
    "bias128 = np.random.uniform(low=0.0, high=1.0, size=(1, 128))\n",
    "\n",
    "weights128 = np.random.uniform(low=0.0, high=1.0, size=(128, 64)) # Hidden layer 2\n",
    "bias64 = np.random.uniform(low=0.0, high=1.0, size=(1, 64))\n",
    "\n",
    "weights64= np.random.uniform(low=0.0, high=1.0, size=(64, 10)) # OUTPUT\n",
    "bias10 = np.random.uniform(low=0.0, high=1.0, size=(1, 10))\n",
    "\n",
    "layers = [weights784, weights256, weights128, weights64]\n",
    "bias = [bias256, bias128, bias64, bias10]"
   ]
  },
  {
   "cell_type": "code",
   "execution_count": 25,
   "metadata": {},
   "outputs": [
    {
     "name": "stdout",
     "output_type": "stream",
     "text": [
      "Data processing, shuffling batch of size 47099215.\n",
      "Data shuffling complete, took 24.610281944274902 seconds.\n"
     ]
    }
   ],
   "source": [
    "# DATA PRE-PROCESSING\n",
    "print(f'Data processing, shuffling batch of size {len(BATCH_INDICES)}.')\n",
    "start = time.time()\n",
    "shuffle_batch()\n",
    "shuffle_time = time.time() - start\n",
    "print(f'Data shuffling complete, took {shuffle_time} seconds.')"
   ]
  },
  {
   "cell_type": "code",
   "execution_count": 121,
   "metadata": {},
   "outputs": [
    {
     "name": "stdout",
     "output_type": "stream",
     "text": [
      "COMMENCING FORWARD PROPOGATION TEST\n",
      "0: 0.999999999999996\n",
      "1: 0.9999999999999964\n",
      "2: 0.9999999999999774\n",
      "3: 0.9999999999999989\n",
      "4: 0.9999999999998754\n",
      "5: 0.9999999999999825\n",
      "6: 0.9999999999999998\n",
      "7: 0.9999999999999984\n",
      "8: 0.9999999999999749\n",
      "9: 0.9999999999998517\n",
      "COMPLETE\n"
     ]
    }
   ],
   "source": [
    "test_data = get_data(BATCH_INDICES[0])\n",
    "test_example = get_features(test_data)\n",
    "test_label = get_label(test_data)\n",
    "\n",
    "# TEST FORWARD PROP\n",
    "print('COMMENCING FORWARD PROPOGATION TEST')\n",
    "\n",
    "forward_propogation(test_example, layers, bias)\n",
    "\n",
    "print('COMPLETE')"
   ]
  }
 ],
 "metadata": {
  "kernelspec": {
   "display_name": "Python 3",
   "language": "python",
   "name": "python3"
  },
  "language_info": {
   "codemirror_mode": {
    "name": "ipython",
    "version": 3
   },
   "file_extension": ".py",
   "mimetype": "text/x-python",
   "name": "python",
   "nbconvert_exporter": "python",
   "pygments_lexer": "ipython3",
   "version": "3.7.3"
  }
 },
 "nbformat": 4,
 "nbformat_minor": 2
}
